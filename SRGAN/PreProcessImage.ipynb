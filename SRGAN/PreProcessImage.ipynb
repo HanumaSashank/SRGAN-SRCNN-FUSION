{
 "cells": [
  {
   "cell_type": "code",
   "execution_count": 1,
   "id": "ddc3f5c9",
   "metadata": {},
   "outputs": [],
   "source": [
    "import glob\n",
    "import imageio\n",
    "import matplotlib.pyplot as plt\n",
    "import numpy as np\n",
    "import os\n",
    "import PIL\n",
    "\n",
    "from skimage import io\n",
    "from skimage import data, color\n",
    "from skimage.color import rgb2gray\n",
    "from skimage.transform import rescale, resize, downscale_local_mean\n",
    "from skimage import img_as_ubyte\n",
    "from skimage import exposure\n",
    "\n",
    "from IPython import display"
   ]
  },
  {
   "cell_type": "code",
   "execution_count": 10,
   "id": "8ce0a3c6",
   "metadata": {},
   "outputs": [],
   "source": [
    "# Load and visualize sample images from each class\n",
    "\n",
    "data_dir = \"og_test_images/\"\n",
    "image_paths = glob.glob(os.path.join(data_dir, '*.png'))\n",
    "\n",
    "# plt.figure(figsize=(7, 7))\n",
    "# print(len(image_paths))\n",
    "# for i in range(1, 5):\n",
    "#     image = io.imread(image_paths[i])\n",
    "#     plt.subplot(2, 2, i)\n",
    "#     plt.imshow(image)\n",
    "\n",
    "# plt.show()"
   ]
  },
  {
   "cell_type": "code",
   "execution_count": 11,
   "id": "bb3c8842",
   "metadata": {},
   "outputs": [],
   "source": [
    "for i in range(len(image_paths)):\n",
    "    image = io.imread(image_paths[i])\n",
    "    #if image.shape == (1024, 1024, 3):\n",
    "        #image = resize(image, (1024, 1024), anti_aliasing=True)\n",
    "    rescaled_image = rescale(image, 0.25, anti_aliasing=False, channel_axis=2)\n",
    "    io.imsave(f'test_images/{i+1}.jpg', img_as_ubyte(rescaled_image))"
   ]
  },
  {
   "cell_type": "code",
   "execution_count": 4,
   "id": "05ea372d",
   "metadata": {},
   "outputs": [],
   "source": [
    "# data_dir = \"Processed_Images/\"\n",
    "# new_image_paths = glob.glob(os.path.join(data_dir, '*.jpg'))"
   ]
  },
  {
   "cell_type": "code",
   "execution_count": 5,
   "id": "70145067",
   "metadata": {},
   "outputs": [],
   "source": [
    "# img = io.imread(f'Processed_Images/{2}.jpg')\n",
    "# plt.imshow(img, cmap='gray')"
   ]
  },
  {
   "cell_type": "code",
   "execution_count": 6,
   "id": "37da1995",
   "metadata": {},
   "outputs": [],
   "source": [
    "# p2, p98 = np.percentile(img, (0, 40))\n",
    "# cstretch_img = exposure.rescale_intensity(img, in_range=(p2, p98))\n",
    "# plt.imshow(cstretch_img, cmap='gray')"
   ]
  },
  {
   "cell_type": "code",
   "execution_count": 7,
   "id": "2d852e9b",
   "metadata": {},
   "outputs": [],
   "source": [
    "# eqz_img = exposure.equalize_hist(img)\n",
    "# plt.imshow(eqz_img, cmap='gray')"
   ]
  },
  {
   "cell_type": "code",
   "execution_count": 8,
   "id": "b9a3693b",
   "metadata": {
    "scrolled": true
   },
   "outputs": [],
   "source": [
    "# adapteqz_img = exposure.equalize_adapthist(cstretch_img, clip_limit=0.006)\n",
    "# plt.imshow(adapteqz_img, cmap='gray')"
   ]
  },
  {
   "cell_type": "code",
   "execution_count": 9,
   "id": "fcbcba1d",
   "metadata": {
    "scrolled": true
   },
   "outputs": [],
   "source": [
    "# p2, p98 = np.percentile(adapteqz_img, (2, 98))\n",
    "# cstretch_img = exposure.rescale_intensity(adapteqz_img, in_range=(p2, p98))\n",
    "# plt.imshow(cstretch_img, cmap='gray')"
   ]
  }
 ],
 "metadata": {
  "kernelspec": {
   "display_name": "Python 3 (ipykernel)",
   "language": "python",
   "name": "python3"
  },
  "language_info": {
   "codemirror_mode": {
    "name": "ipython",
    "version": 3
   },
   "file_extension": ".py",
   "mimetype": "text/x-python",
   "name": "python",
   "nbconvert_exporter": "python",
   "pygments_lexer": "ipython3",
   "version": "3.11.5"
  }
 },
 "nbformat": 4,
 "nbformat_minor": 5
}
